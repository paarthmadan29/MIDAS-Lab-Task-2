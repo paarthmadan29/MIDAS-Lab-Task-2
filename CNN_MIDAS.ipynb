{
  "nbformat": 4,
  "nbformat_minor": 0,
  "metadata": {
    "colab": {
      "name": "CNN_MIDAS.ipynb",
      "provenance": [],
      "collapsed_sections": []
    },
    "kernelspec": {
      "name": "python3",
      "display_name": "Python 3"
    },
    "language_info": {
      "name": "python"
    },
    "accelerator": "GPU"
  },
  "cells": [
    {
      "cell_type": "markdown",
      "metadata": {
        "id": "NbRSnfm03Y9w"
      },
      "source": [
        "**Task-1**"
      ]
    },
    {
      "cell_type": "markdown",
      "metadata": {
        "id": "ghVaj87ltvq9"
      },
      "source": [
        "Importing required Libraries\n"
      ]
    },
    {
      "cell_type": "code",
      "metadata": {
        "id": "765vphV7V7Gh"
      },
      "source": [
        "import numpy as np\n",
        "import pandas as pd\n",
        "import matplotlib.pyplot as plt\n",
        "from sklearn.model_selection import train_test_split\n",
        "import cv2\n",
        "\n",
        "from keras.models import Sequential\n",
        "from keras.layers import Dense, Dropout, Flatten\n",
        "from keras.layers import Conv2D, MaxPooling2D \n",
        "from keras.utils import np_utils\n",
        "import sklearn.metrics as metrics "
      ],
      "execution_count": 1,
      "outputs": []
    },
    {
      "cell_type": "code",
      "metadata": {
        "id": "IFMTdgvjWA6U"
      },
      "source": [
        "import os, sys\n",
        "from IPython.display import display\n",
        "from IPython.display import Image as _Imgdis\n",
        "from PIL import Image\n",
        "from numpy import asarray\n",
        "from scipy import ndimage\n",
        "from keras.preprocessing.image import ImageDataGenerator, array_to_img, img_to_array, load_img"
      ],
      "execution_count": 2,
      "outputs": []
    },
    {
      "cell_type": "code",
      "metadata": {
        "id": "tTZmO8f03CBI",
        "colab": {
          "base_uri": "https://localhost:8080/"
        },
        "outputId": "d6e7ee78-1b28-41e1-ff3e-524cdc910d54"
      },
      "source": [
        "train = \"/content/drive/MyDrive/MIDAS/Task2/train\"              # importing train dataset\n",
        "folder_names = os.listdir(train)                                # listing sub folders in train\n",
        "folder_names"
      ],
      "execution_count": 6,
      "outputs": [
        {
          "output_type": "execute_result",
          "data": {
            "text/plain": [
              "['Sample054',\n",
              " 'Sample056',\n",
              " 'Sample062',\n",
              " 'Sample060',\n",
              " 'Sample055',\n",
              " 'Sample057',\n",
              " 'Sample061',\n",
              " 'Sample059',\n",
              " 'Sample058',\n",
              " 'Sample053',\n",
              " 'Sample052',\n",
              " 'Sample047',\n",
              " 'Sample051',\n",
              " 'Sample043',\n",
              " 'Sample046',\n",
              " 'Sample050',\n",
              " 'Sample045',\n",
              " 'Sample049',\n",
              " 'Sample048',\n",
              " 'Sample044',\n",
              " 'Sample033',\n",
              " 'Sample038',\n",
              " 'Sample036',\n",
              " 'Sample040',\n",
              " 'Sample039',\n",
              " 'Sample035',\n",
              " 'Sample042',\n",
              " 'Sample034',\n",
              " 'Sample041',\n",
              " 'Sample037',\n",
              " 'Sample026',\n",
              " 'Sample028',\n",
              " 'Sample032',\n",
              " 'Sample027',\n",
              " 'Sample030',\n",
              " 'Sample023',\n",
              " 'Sample025',\n",
              " 'Sample024',\n",
              " 'Sample029',\n",
              " 'Sample031',\n",
              " 'Sample019',\n",
              " 'Sample016',\n",
              " 'Sample014',\n",
              " 'Sample015',\n",
              " 'Sample020',\n",
              " 'Sample021',\n",
              " 'Sample017',\n",
              " 'Sample022',\n",
              " 'Sample018',\n",
              " 'Sample013',\n",
              " 'Sample007',\n",
              " 'Sample006',\n",
              " 'Sample010',\n",
              " 'Sample005',\n",
              " 'Sample004',\n",
              " 'Sample012',\n",
              " 'Sample008',\n",
              " 'Sample009',\n",
              " 'Sample003',\n",
              " 'Sample011',\n",
              " 'Sample001',\n",
              " 'Sample002']"
            ]
          },
          "metadata": {
            "tags": []
          },
          "execution_count": 6
        }
      ]
    },
    {
      "cell_type": "code",
      "metadata": {
        "colab": {
          "base_uri": "https://localhost:8080/"
        },
        "id": "pu19wHME3bU2",
        "outputId": "5e315613-2725-490d-d495-9df8138383c6"
      },
      "source": [
        "img_ext = '*.png'                                             # Extractive image file names in every sub-folder\n",
        "import glob\n",
        "\n",
        "for indx, folder_name in enumerate(folder_names):\n",
        "    file_dir =  os.path.join(train,folder_name,img_ext)\n",
        "   \n",
        "    img_list = glob.glob(file_dir)\n",
        "img_list"
      ],
      "execution_count": 8,
      "outputs": [
        {
          "output_type": "execute_result",
          "data": {
            "text/plain": [
              "['/content/drive/MyDrive/MIDAS/Task2/train/Sample002/img002-002.png',\n",
              " '/content/drive/MyDrive/MIDAS/Task2/train/Sample002/img002-018.png',\n",
              " '/content/drive/MyDrive/MIDAS/Task2/train/Sample002/img002-046.png',\n",
              " '/content/drive/MyDrive/MIDAS/Task2/train/Sample002/img002-049.png',\n",
              " '/content/drive/MyDrive/MIDAS/Task2/train/Sample002/img002-013.png',\n",
              " '/content/drive/MyDrive/MIDAS/Task2/train/Sample002/img002-052.png',\n",
              " '/content/drive/MyDrive/MIDAS/Task2/train/Sample002/img002-019.png',\n",
              " '/content/drive/MyDrive/MIDAS/Task2/train/Sample002/img002-038.png',\n",
              " '/content/drive/MyDrive/MIDAS/Task2/train/Sample002/img002-021.png',\n",
              " '/content/drive/MyDrive/MIDAS/Task2/train/Sample002/img002-011.png',\n",
              " '/content/drive/MyDrive/MIDAS/Task2/train/Sample002/img002-025.png',\n",
              " '/content/drive/MyDrive/MIDAS/Task2/train/Sample002/img002-047.png',\n",
              " '/content/drive/MyDrive/MIDAS/Task2/train/Sample002/img002-048.png',\n",
              " '/content/drive/MyDrive/MIDAS/Task2/train/Sample002/img002-040.png',\n",
              " '/content/drive/MyDrive/MIDAS/Task2/train/Sample002/img002-017.png',\n",
              " '/content/drive/MyDrive/MIDAS/Task2/train/Sample002/img002-003.png',\n",
              " '/content/drive/MyDrive/MIDAS/Task2/train/Sample002/img002-007.png',\n",
              " '/content/drive/MyDrive/MIDAS/Task2/train/Sample002/img002-006.png',\n",
              " '/content/drive/MyDrive/MIDAS/Task2/train/Sample002/img002-043.png',\n",
              " '/content/drive/MyDrive/MIDAS/Task2/train/Sample002/img002-026.png',\n",
              " '/content/drive/MyDrive/MIDAS/Task2/train/Sample002/img002-055.png',\n",
              " '/content/drive/MyDrive/MIDAS/Task2/train/Sample002/img002-034.png',\n",
              " '/content/drive/MyDrive/MIDAS/Task2/train/Sample002/img002-004.png',\n",
              " '/content/drive/MyDrive/MIDAS/Task2/train/Sample002/img002-024.png',\n",
              " '/content/drive/MyDrive/MIDAS/Task2/train/Sample002/img002-045.png',\n",
              " '/content/drive/MyDrive/MIDAS/Task2/train/Sample002/img002-031.png',\n",
              " '/content/drive/MyDrive/MIDAS/Task2/train/Sample002/img002-010.png',\n",
              " '/content/drive/MyDrive/MIDAS/Task2/train/Sample002/img002-028.png',\n",
              " '/content/drive/MyDrive/MIDAS/Task2/train/Sample002/img002-041.png',\n",
              " '/content/drive/MyDrive/MIDAS/Task2/train/Sample002/img002-035.png',\n",
              " '/content/drive/MyDrive/MIDAS/Task2/train/Sample002/img002-012.png',\n",
              " '/content/drive/MyDrive/MIDAS/Task2/train/Sample002/img002-050.png',\n",
              " '/content/drive/MyDrive/MIDAS/Task2/train/Sample002/img002-001.png',\n",
              " '/content/drive/MyDrive/MIDAS/Task2/train/Sample002/img002-053.png',\n",
              " '/content/drive/MyDrive/MIDAS/Task2/train/Sample002/img002-020.png',\n",
              " '/content/drive/MyDrive/MIDAS/Task2/train/Sample002/img002-042.png',\n",
              " '/content/drive/MyDrive/MIDAS/Task2/train/Sample002/img002-009.png',\n",
              " '/content/drive/MyDrive/MIDAS/Task2/train/Sample002/img002-008.png',\n",
              " '/content/drive/MyDrive/MIDAS/Task2/train/Sample002/img002-037.png',\n",
              " '/content/drive/MyDrive/MIDAS/Task2/train/Sample002/img002-032.png']"
            ]
          },
          "metadata": {
            "tags": []
          },
          "execution_count": 8
        }
      ]
    },
    {
      "cell_type": "markdown",
      "metadata": {
        "id": "naSSf2m0wnrQ"
      },
      "source": [
        "Code for making the custom dataset from the given folder (train)\n"
      ]
    },
    {
      "cell_type": "markdown",
      "metadata": {
        "id": "CTI1l-vYw_uz"
      },
      "source": [
        "Converting .png image files to arrays and adding labels to the corresponding image."
      ]
    },
    {
      "cell_type": "code",
      "metadata": {
        "id": "jsCkj5BGWP9V"
      },
      "source": [
        "import glob                                                     \n",
        "\n",
        "path = train\n",
        "folder_names = os.listdir(path)\n",
        "img_ext = '*.png'\n",
        "\n",
        "X = []\n",
        "y = []\n",
        "w = 28\n",
        "h = 28\n",
        "\n",
        "for indx, folder_name in enumerate(sorted(folder_names)):\n",
        "    file_dir =  os.path.join(path,folder_name,img_ext)\n",
        "   \n",
        "    img_list = glob.glob(file_dir)\n",
        "   \n",
        "    for img in img_list:\n",
        "        # Read and resize image\n",
        "        imread_e = cv2.imread(img)\n",
        "        X.append(cv2.resize(imread_e, (w,h), interpolation=cv2.INTER_CUBIC))\n",
        "        y.append([0]*(indx) + [1] + [0]*(len(folder_names)-(1+indx)))\n",
        "\n",
        "X = np.array(X)\n",
        "y = np.array(y)"
      ],
      "execution_count": 10,
      "outputs": []
    },
    {
      "cell_type": "markdown",
      "metadata": {
        "id": "sYzXXUzjyn2s"
      },
      "source": [
        "y is an array such that the class is one hot encoded at the respective position. For eg. since there are 40 images of each class in the dataset among 62 classes, y[0] : y[39] belong to the first class and so on."
      ]
    },
    {
      "cell_type": "code",
      "metadata": {
        "colab": {
          "base_uri": "https://localhost:8080/"
        },
        "id": "INzgUa_ty3Yw",
        "outputId": "521b87bc-8dd5-4ff9-f3fb-74f26e439928"
      },
      "source": [
        "y[0]"
      ],
      "execution_count": 24,
      "outputs": [
        {
          "output_type": "execute_result",
          "data": {
            "text/plain": [
              "array([1, 0, 0, 0, 0, 0, 0, 0, 0, 0, 0, 0, 0, 0, 0, 0, 0, 0, 0, 0, 0, 0,\n",
              "       0, 0, 0, 0, 0, 0, 0, 0, 0, 0, 0, 0, 0, 0, 0, 0, 0, 0, 0, 0, 0, 0,\n",
              "       0, 0, 0, 0, 0, 0, 0, 0, 0, 0, 0, 0, 0, 0, 0, 0, 0, 0])"
            ]
          },
          "metadata": {
            "tags": []
          },
          "execution_count": 24
        }
      ]
    },
    {
      "cell_type": "code",
      "metadata": {
        "colab": {
          "base_uri": "https://localhost:8080/"
        },
        "id": "mfybbgzOy5EG",
        "outputId": "9a10760a-050d-499e-f782-ae3f44d033ab"
      },
      "source": [
        "y[39]"
      ],
      "execution_count": 25,
      "outputs": [
        {
          "output_type": "execute_result",
          "data": {
            "text/plain": [
              "array([1, 0, 0, 0, 0, 0, 0, 0, 0, 0, 0, 0, 0, 0, 0, 0, 0, 0, 0, 0, 0, 0,\n",
              "       0, 0, 0, 0, 0, 0, 0, 0, 0, 0, 0, 0, 0, 0, 0, 0, 0, 0, 0, 0, 0, 0,\n",
              "       0, 0, 0, 0, 0, 0, 0, 0, 0, 0, 0, 0, 0, 0, 0, 0, 0, 0])"
            ]
          },
          "metadata": {
            "tags": []
          },
          "execution_count": 25
        }
      ]
    },
    {
      "cell_type": "code",
      "metadata": {
        "colab": {
          "base_uri": "https://localhost:8080/"
        },
        "id": "75CsfyahygLI",
        "outputId": "b4fa1d53-c942-4a25-da4b-af3e23422367"
      },
      "source": [
        "y[40]"
      ],
      "execution_count": 23,
      "outputs": [
        {
          "output_type": "execute_result",
          "data": {
            "text/plain": [
              "array([0, 1, 0, 0, 0, 0, 0, 0, 0, 0, 0, 0, 0, 0, 0, 0, 0, 0, 0, 0, 0, 0,\n",
              "       0, 0, 0, 0, 0, 0, 0, 0, 0, 0, 0, 0, 0, 0, 0, 0, 0, 0, 0, 0, 0, 0,\n",
              "       0, 0, 0, 0, 0, 0, 0, 0, 0, 0, 0, 0, 0, 0, 0, 0, 0, 0])"
            ]
          },
          "metadata": {
            "tags": []
          },
          "execution_count": 23
        }
      ]
    },
    {
      "cell_type": "code",
      "metadata": {
        "id": "QPIzDunHWr2o"
      },
      "source": [
        "from sklearn.model_selection import train_test_split"
      ],
      "execution_count": 11,
      "outputs": []
    },
    {
      "cell_type": "markdown",
      "metadata": {
        "id": "dIJ1DcKzyKTJ"
      },
      "source": [
        "Splitting Dataset into train and test. (Best test size = 0.2)"
      ]
    },
    {
      "cell_type": "code",
      "metadata": {
        "id": "g_etHWuJbo5O"
      },
      "source": [
        "X_train, X_test, y_train, y_test = train_test_split(X, y, test_size = 0.2, random_state=42)"
      ],
      "execution_count": 12,
      "outputs": []
    },
    {
      "cell_type": "markdown",
      "metadata": {
        "id": "rQn6Un4syFp6"
      },
      "source": [
        "Printing shape of X_train and y_train"
      ]
    },
    {
      "cell_type": "code",
      "metadata": {
        "colab": {
          "base_uri": "https://localhost:8080/"
        },
        "id": "8Kp7Hm59ciW5",
        "outputId": "7465071d-142f-4966-aad6-460d650dc10d"
      },
      "source": [
        "print(X_train.shape)\n",
        "print(y_train.shape)"
      ],
      "execution_count": 16,
      "outputs": [
        {
          "output_type": "stream",
          "text": [
            "(1984, 28, 28, 3)\n",
            "(1984, 62)\n"
          ],
          "name": "stdout"
        }
      ]
    },
    {
      "cell_type": "code",
      "metadata": {
        "colab": {
          "base_uri": "https://localhost:8080/"
        },
        "id": "6znX6QJHckkh",
        "outputId": "2d9bcad8-60b8-4ad6-c48c-8624bceb924b"
      },
      "source": [
        "y_train[0]"
      ],
      "execution_count": 18,
      "outputs": [
        {
          "output_type": "execute_result",
          "data": {
            "text/plain": [
              "array([0, 0, 0, 0, 0, 0, 0, 0, 0, 0, 0, 0, 0, 0, 0, 0, 0, 0, 0, 0, 0, 0,\n",
              "       0, 0, 0, 0, 0, 0, 1, 0, 0, 0, 0, 0, 0, 0, 0, 0, 0, 0, 0, 0, 0, 0,\n",
              "       0, 0, 0, 0, 0, 0, 0, 0, 0, 0, 0, 0, 0, 0, 0, 0, 0, 0])"
            ]
          },
          "metadata": {
            "tags": []
          },
          "execution_count": 18
        }
      ]
    },
    {
      "cell_type": "code",
      "metadata": {
        "colab": {
          "base_uri": "https://localhost:8080/"
        },
        "id": "EtqLxOGwyZf6",
        "outputId": "88a4b280-47ad-4392-c130-d2ef29e1513e"
      },
      "source": [
        "y_train[1]"
      ],
      "execution_count": 19,
      "outputs": [
        {
          "output_type": "execute_result",
          "data": {
            "text/plain": [
              "array([0, 0, 0, 0, 0, 0, 0, 0, 0, 0, 0, 0, 0, 0, 0, 0, 0, 0, 0, 0, 0, 0,\n",
              "       0, 0, 0, 0, 0, 0, 0, 0, 0, 0, 0, 0, 0, 0, 0, 0, 0, 0, 0, 0, 0, 0,\n",
              "       1, 0, 0, 0, 0, 0, 0, 0, 0, 0, 0, 0, 0, 0, 0, 0, 0, 0])"
            ]
          },
          "metadata": {
            "tags": []
          },
          "execution_count": 19
        }
      ]
    },
    {
      "cell_type": "code",
      "metadata": {
        "id": "If8GpdRKcncb"
      },
      "source": [
        "from keras.losses import categorical_crossentropy\n",
        "from keras.models import Sequential\n",
        "from keras import layers\n",
        "from keras.utils import np_utils\n",
        "import sklearn.metrics as metrics"
      ],
      "execution_count": 27,
      "outputs": []
    },
    {
      "cell_type": "markdown",
      "metadata": {
        "id": "K0XppgLe-8af"
      },
      "source": [
        "A CNN Model from scratch.\n",
        "After lot of iterations and training, the values of variables have been selected. INcreasing the depth of the network more than this only lead to overfitting and reduction in validation accuracy significantly."
      ]
    },
    {
      "cell_type": "code",
      "metadata": {
        "colab": {
          "base_uri": "https://localhost:8080/"
        },
        "id": "hIEscENOc4JR",
        "outputId": "918f1429-a9f0-4232-f662-6a8f94d7a358"
      },
      "source": [
        "model1 = Sequential()\n",
        "model1.add(Conv2D(filters=64, kernel_size=(5,5), padding = 'same', activation='relu', input_shape=(28, 28, 3)))\n",
        "model1.add(MaxPooling2D(pool_size=(2,2), strides = (2,2)))\n",
        "model1.add(Conv2D(filters=32, kernel_size=(3,3), padding = 'same', activation='relu'))\n",
        "model1.add(MaxPooling2D(pool_size=(2,2)))\n",
        "model1.add(Flatten())\n",
        "model1.add(Dense(units=128, activation='relu'))\n",
        "model1.add(Dropout(0.2))\n",
        "model1.add(Dense(units = 62, activation='softmax'))\n",
        "\n",
        "model1.summary()"
      ],
      "execution_count": 57,
      "outputs": [
        {
          "output_type": "stream",
          "text": [
            "Model: \"sequential_6\"\n",
            "_________________________________________________________________\n",
            "Layer (type)                 Output Shape              Param #   \n",
            "=================================================================\n",
            "conv2d_13 (Conv2D)           (None, 28, 28, 64)        4864      \n",
            "_________________________________________________________________\n",
            "max_pooling2d_13 (MaxPooling (None, 14, 14, 64)        0         \n",
            "_________________________________________________________________\n",
            "conv2d_14 (Conv2D)           (None, 14, 14, 32)        18464     \n",
            "_________________________________________________________________\n",
            "max_pooling2d_14 (MaxPooling (None, 7, 7, 32)          0         \n",
            "_________________________________________________________________\n",
            "flatten_4 (Flatten)          (None, 1568)              0         \n",
            "_________________________________________________________________\n",
            "dense_11 (Dense)             (None, 128)               200832    \n",
            "_________________________________________________________________\n",
            "dropout_6 (Dropout)          (None, 128)               0         \n",
            "_________________________________________________________________\n",
            "dense_12 (Dense)             (None, 62)                7998      \n",
            "=================================================================\n",
            "Total params: 232,158\n",
            "Trainable params: 232,158\n",
            "Non-trainable params: 0\n",
            "_________________________________________________________________\n"
          ],
          "name": "stdout"
        }
      ]
    },
    {
      "cell_type": "markdown",
      "metadata": {
        "id": "rZ66eXmz_jDq"
      },
      "source": [
        "Compiling model with Adam as optimizer"
      ]
    },
    {
      "cell_type": "code",
      "metadata": {
        "id": "PsvuT-Vlc_Af"
      },
      "source": [
        "# train\n",
        "model1.compile(optimizer='Adam', loss = 'categorical_crossentropy', metrics=['accuracy'])"
      ],
      "execution_count": 58,
      "outputs": []
    },
    {
      "cell_type": "markdown",
      "metadata": {
        "id": "nDASSHiu_gqB"
      },
      "source": [
        "Saving model checkpoints"
      ]
    },
    {
      "cell_type": "code",
      "metadata": {
        "id": "u8PoslfB2PyB"
      },
      "source": [
        "from keras.callbacks import ModelCheckpoint, EarlyStopping\n",
        "es = EarlyStopping(monitor='val_acc', verbose=1, patience=5)\n",
        "mc = ModelCheckpoint(filepath='task1.h5', verbose=1, monitor='val_acc')\n",
        "cb = [es, mc]"
      ],
      "execution_count": 66,
      "outputs": []
    },
    {
      "cell_type": "markdown",
      "metadata": {
        "id": "LHmafMsh_JqY"
      },
      "source": [
        "After around 20 epochs, the model saturates training process with best batch size of 64 given the small dataset of around 2480 images.\n",
        "The max valdation accuracy comes around 60 % which is not bad for such small dataset.\n",
        " "
      ]
    },
    {
      "cell_type": "code",
      "metadata": {
        "id": "OCHxa9eqgiKV",
        "colab": {
          "base_uri": "https://localhost:8080/"
        },
        "outputId": "e6f09e85-4223-46cb-8441-71eac4ffca58"
      },
      "source": [
        "history1 = model1.fit(X_train,y_train, batch_size= 64, epochs=25,validation_data=(X_test, y_test), verbose=1, callbacks=cb)"
      ],
      "execution_count": 67,
      "outputs": [
        {
          "output_type": "stream",
          "text": [
            "Epoch 1/25\n",
            "31/31 [==============================] - 0s 7ms/step - loss: 0.0884 - accuracy: 0.9824 - val_loss: 12.3238 - val_accuracy: 0.5685\n",
            "WARNING:tensorflow:Early stopping conditioned on metric `val_acc` which is not available. Available metrics are: loss,accuracy,val_loss,val_accuracy\n",
            "\n",
            "Epoch 00001: saving model to task1.h5\n",
            "Epoch 2/25\n",
            "31/31 [==============================] - 0s 6ms/step - loss: 0.0882 - accuracy: 0.9859 - val_loss: 11.8597 - val_accuracy: 0.5907\n",
            "WARNING:tensorflow:Early stopping conditioned on metric `val_acc` which is not available. Available metrics are: loss,accuracy,val_loss,val_accuracy\n",
            "\n",
            "Epoch 00002: saving model to task1.h5\n",
            "Epoch 3/25\n",
            "31/31 [==============================] - 0s 6ms/step - loss: 0.0713 - accuracy: 0.9844 - val_loss: 13.6603 - val_accuracy: 0.5625\n",
            "WARNING:tensorflow:Early stopping conditioned on metric `val_acc` which is not available. Available metrics are: loss,accuracy,val_loss,val_accuracy\n",
            "\n",
            "Epoch 00003: saving model to task1.h5\n",
            "Epoch 4/25\n",
            "31/31 [==============================] - 0s 6ms/step - loss: 0.1345 - accuracy: 0.9788 - val_loss: 10.9062 - val_accuracy: 0.5423\n",
            "WARNING:tensorflow:Early stopping conditioned on metric `val_acc` which is not available. Available metrics are: loss,accuracy,val_loss,val_accuracy\n",
            "\n",
            "Epoch 00004: saving model to task1.h5\n",
            "Epoch 5/25\n",
            "31/31 [==============================] - 0s 6ms/step - loss: 0.1858 - accuracy: 0.9733 - val_loss: 11.2557 - val_accuracy: 0.5605\n",
            "WARNING:tensorflow:Early stopping conditioned on metric `val_acc` which is not available. Available metrics are: loss,accuracy,val_loss,val_accuracy\n",
            "\n",
            "Epoch 00005: saving model to task1.h5\n",
            "Epoch 6/25\n",
            "31/31 [==============================] - 0s 6ms/step - loss: 0.1113 - accuracy: 0.9824 - val_loss: 11.0940 - val_accuracy: 0.5605\n",
            "WARNING:tensorflow:Early stopping conditioned on metric `val_acc` which is not available. Available metrics are: loss,accuracy,val_loss,val_accuracy\n",
            "\n",
            "Epoch 00006: saving model to task1.h5\n",
            "Epoch 7/25\n",
            "31/31 [==============================] - 0s 6ms/step - loss: 0.0891 - accuracy: 0.9808 - val_loss: 12.7459 - val_accuracy: 0.5585\n",
            "WARNING:tensorflow:Early stopping conditioned on metric `val_acc` which is not available. Available metrics are: loss,accuracy,val_loss,val_accuracy\n",
            "\n",
            "Epoch 00007: saving model to task1.h5\n",
            "Epoch 8/25\n",
            "31/31 [==============================] - 0s 6ms/step - loss: 0.1484 - accuracy: 0.9803 - val_loss: 12.1334 - val_accuracy: 0.5665\n",
            "WARNING:tensorflow:Early stopping conditioned on metric `val_acc` which is not available. Available metrics are: loss,accuracy,val_loss,val_accuracy\n",
            "\n",
            "Epoch 00008: saving model to task1.h5\n",
            "Epoch 9/25\n",
            "31/31 [==============================] - 0s 6ms/step - loss: 0.1089 - accuracy: 0.9788 - val_loss: 13.7311 - val_accuracy: 0.5685\n",
            "WARNING:tensorflow:Early stopping conditioned on metric `val_acc` which is not available. Available metrics are: loss,accuracy,val_loss,val_accuracy\n",
            "\n",
            "Epoch 00009: saving model to task1.h5\n",
            "Epoch 10/25\n",
            "31/31 [==============================] - 0s 6ms/step - loss: 0.1295 - accuracy: 0.9803 - val_loss: 13.3061 - val_accuracy: 0.5403\n",
            "WARNING:tensorflow:Early stopping conditioned on metric `val_acc` which is not available. Available metrics are: loss,accuracy,val_loss,val_accuracy\n",
            "\n",
            "Epoch 00010: saving model to task1.h5\n",
            "Epoch 11/25\n",
            "31/31 [==============================] - 0s 6ms/step - loss: 0.1287 - accuracy: 0.9808 - val_loss: 12.4481 - val_accuracy: 0.5544\n",
            "WARNING:tensorflow:Early stopping conditioned on metric `val_acc` which is not available. Available metrics are: loss,accuracy,val_loss,val_accuracy\n",
            "\n",
            "Epoch 00011: saving model to task1.h5\n",
            "Epoch 12/25\n",
            "31/31 [==============================] - 0s 6ms/step - loss: 0.0790 - accuracy: 0.9859 - val_loss: 11.9815 - val_accuracy: 0.5706\n",
            "WARNING:tensorflow:Early stopping conditioned on metric `val_acc` which is not available. Available metrics are: loss,accuracy,val_loss,val_accuracy\n",
            "\n",
            "Epoch 00012: saving model to task1.h5\n",
            "Epoch 13/25\n",
            "31/31 [==============================] - 0s 6ms/step - loss: 0.0945 - accuracy: 0.9808 - val_loss: 11.9767 - val_accuracy: 0.5786\n",
            "WARNING:tensorflow:Early stopping conditioned on metric `val_acc` which is not available. Available metrics are: loss,accuracy,val_loss,val_accuracy\n",
            "\n",
            "Epoch 00013: saving model to task1.h5\n",
            "Epoch 14/25\n",
            "31/31 [==============================] - 0s 6ms/step - loss: 0.0986 - accuracy: 0.9884 - val_loss: 12.2601 - val_accuracy: 0.5444\n",
            "WARNING:tensorflow:Early stopping conditioned on metric `val_acc` which is not available. Available metrics are: loss,accuracy,val_loss,val_accuracy\n",
            "\n",
            "Epoch 00014: saving model to task1.h5\n",
            "Epoch 15/25\n",
            "31/31 [==============================] - 0s 6ms/step - loss: 0.0460 - accuracy: 0.9909 - val_loss: 11.3215 - val_accuracy: 0.5746\n",
            "WARNING:tensorflow:Early stopping conditioned on metric `val_acc` which is not available. Available metrics are: loss,accuracy,val_loss,val_accuracy\n",
            "\n",
            "Epoch 00015: saving model to task1.h5\n",
            "Epoch 16/25\n",
            "31/31 [==============================] - 0s 6ms/step - loss: 0.1211 - accuracy: 0.9834 - val_loss: 12.4591 - val_accuracy: 0.5907\n",
            "WARNING:tensorflow:Early stopping conditioned on metric `val_acc` which is not available. Available metrics are: loss,accuracy,val_loss,val_accuracy\n",
            "\n",
            "Epoch 00016: saving model to task1.h5\n",
            "Epoch 17/25\n",
            "31/31 [==============================] - 0s 6ms/step - loss: 0.1600 - accuracy: 0.9733 - val_loss: 12.1328 - val_accuracy: 0.5544\n",
            "WARNING:tensorflow:Early stopping conditioned on metric `val_acc` which is not available. Available metrics are: loss,accuracy,val_loss,val_accuracy\n",
            "\n",
            "Epoch 00017: saving model to task1.h5\n",
            "Epoch 18/25\n",
            "31/31 [==============================] - 0s 6ms/step - loss: 0.1672 - accuracy: 0.9793 - val_loss: 11.4162 - val_accuracy: 0.5706\n",
            "WARNING:tensorflow:Early stopping conditioned on metric `val_acc` which is not available. Available metrics are: loss,accuracy,val_loss,val_accuracy\n",
            "\n",
            "Epoch 00018: saving model to task1.h5\n",
            "Epoch 19/25\n",
            "31/31 [==============================] - 0s 6ms/step - loss: 0.1569 - accuracy: 0.9758 - val_loss: 12.1839 - val_accuracy: 0.5665\n",
            "WARNING:tensorflow:Early stopping conditioned on metric `val_acc` which is not available. Available metrics are: loss,accuracy,val_loss,val_accuracy\n",
            "\n",
            "Epoch 00019: saving model to task1.h5\n",
            "Epoch 20/25\n",
            "31/31 [==============================] - 0s 6ms/step - loss: 0.1282 - accuracy: 0.9763 - val_loss: 12.8576 - val_accuracy: 0.5786\n",
            "WARNING:tensorflow:Early stopping conditioned on metric `val_acc` which is not available. Available metrics are: loss,accuracy,val_loss,val_accuracy\n",
            "\n",
            "Epoch 00020: saving model to task1.h5\n",
            "Epoch 21/25\n",
            "31/31 [==============================] - 0s 6ms/step - loss: 0.2431 - accuracy: 0.9713 - val_loss: 11.7963 - val_accuracy: 0.5786\n",
            "WARNING:tensorflow:Early stopping conditioned on metric `val_acc` which is not available. Available metrics are: loss,accuracy,val_loss,val_accuracy\n",
            "\n",
            "Epoch 00021: saving model to task1.h5\n",
            "Epoch 22/25\n",
            "31/31 [==============================] - 0s 6ms/step - loss: 0.1581 - accuracy: 0.9778 - val_loss: 12.1222 - val_accuracy: 0.5746\n",
            "WARNING:tensorflow:Early stopping conditioned on metric `val_acc` which is not available. Available metrics are: loss,accuracy,val_loss,val_accuracy\n",
            "\n",
            "Epoch 00022: saving model to task1.h5\n",
            "Epoch 23/25\n",
            "31/31 [==============================] - 0s 6ms/step - loss: 0.0865 - accuracy: 0.9839 - val_loss: 12.5453 - val_accuracy: 0.5665\n",
            "WARNING:tensorflow:Early stopping conditioned on metric `val_acc` which is not available. Available metrics are: loss,accuracy,val_loss,val_accuracy\n",
            "\n",
            "Epoch 00023: saving model to task1.h5\n",
            "Epoch 24/25\n",
            "31/31 [==============================] - 0s 6ms/step - loss: 0.0611 - accuracy: 0.9874 - val_loss: 12.5729 - val_accuracy: 0.5726\n",
            "WARNING:tensorflow:Early stopping conditioned on metric `val_acc` which is not available. Available metrics are: loss,accuracy,val_loss,val_accuracy\n",
            "\n",
            "Epoch 00024: saving model to task1.h5\n",
            "Epoch 25/25\n",
            "31/31 [==============================] - 0s 6ms/step - loss: 0.1351 - accuracy: 0.9808 - val_loss: 13.1524 - val_accuracy: 0.5726\n",
            "WARNING:tensorflow:Early stopping conditioned on metric `val_acc` which is not available. Available metrics are: loss,accuracy,val_loss,val_accuracy\n",
            "\n",
            "Epoch 00025: saving model to task1.h5\n"
          ],
          "name": "stdout"
        }
      ]
    },
    {
      "cell_type": "markdown",
      "metadata": {
        "id": "gA7qyfXw3m0y"
      },
      "source": [
        "**Task-2**"
      ]
    },
    {
      "cell_type": "code",
      "metadata": {
        "id": "7fINDVa23ts7"
      },
      "source": [
        "train2 = \"/content/drive/MyDrive/MIDAS/Task2/train_0-9\""
      ],
      "execution_count": 68,
      "outputs": []
    },
    {
      "cell_type": "code",
      "metadata": {
        "colab": {
          "base_uri": "https://localhost:8080/"
        },
        "id": "xBVKAOsR6-c4",
        "outputId": "64c460fb-ba89-48e9-fec9-bc76030a60d5"
      },
      "source": [
        "folder_names2 = os.listdir(train2)\n",
        "folder_names2"
      ],
      "execution_count": 70,
      "outputs": [
        {
          "output_type": "execute_result",
          "data": {
            "text/plain": [
              "['Sample007',\n",
              " 'Sample006',\n",
              " 'Sample003',\n",
              " 'Sample004',\n",
              " 'Sample005',\n",
              " 'Sample002',\n",
              " 'Sample010',\n",
              " 'Sample009',\n",
              " 'Sample001',\n",
              " 'Sample008']"
            ]
          },
          "metadata": {
            "tags": []
          },
          "execution_count": 70
        }
      ]
    },
    {
      "cell_type": "code",
      "metadata": {
        "id": "mdkwuw2D7Yvq"
      },
      "source": [
        "path2 = train2\n",
        "folder_names2 = os.listdir(path2)\n",
        "img_ext = '*.png'\n",
        "\n",
        "X2 = []\n",
        "y2 = []\n",
        "w2 = 100\n",
        "h2 = 100\n",
        "\n",
        "for indx, folder_name in enumerate(sorted(folder_names2)):\n",
        "    file_dir =  os.path.join(path,folder_name,img_ext)\n",
        "   \n",
        "    img_list2 = glob.glob(file_dir)\n",
        "   \n",
        "    for img in img_list2:\n",
        "        # Read and resize image\n",
        "        imread_e = cv2.imread(img)\n",
        "        X2.append(cv2.resize(imread_e, (w,h), interpolation=cv2.INTER_CUBIC))\n",
        "        y2.append([0]*(indx) + [1] + [0]*(len(folder_names2)-(1+indx)))\n",
        "\n",
        "X2 = np.array(X2)\n",
        "y2 = np.array(y2)"
      ],
      "execution_count": 71,
      "outputs": []
    },
    {
      "cell_type": "code",
      "metadata": {
        "id": "f15mvtJeQTNv"
      },
      "source": [
        "from keras.applications import VGG19"
      ],
      "execution_count": 74,
      "outputs": []
    },
    {
      "cell_type": "code",
      "metadata": {
        "id": "W0dUbf3loc6j"
      },
      "source": [
        "from keras import layers\n",
        "from keras import models"
      ],
      "execution_count": 75,
      "outputs": []
    },
    {
      "cell_type": "code",
      "metadata": {
        "id": "R6cEWTjw4TjD"
      },
      "source": [
        "from keras.datasets import mnist\n",
        "(X_train2, y_train2), (X_test2, y_test2) = mnist.load_data()"
      ],
      "execution_count": 76,
      "outputs": []
    },
    {
      "cell_type": "markdown",
      "metadata": {
        "id": "CeFHMxVr_0pA"
      },
      "source": [
        "Resizing the traning and testing data (MNIST) for input to the VGG19 (accepts minimum size of 32)"
      ]
    },
    {
      "cell_type": "code",
      "metadata": {
        "id": "xdoIRiFO39Ny"
      },
      "source": [
        "import cv2\n",
        "IMG_SIZE = 32\n",
        "def resize(img_array):\n",
        "    tmp = np.empty((img_array.shape[0], IMG_SIZE, IMG_SIZE))\n",
        "\n",
        "    for i in range(len(img_array)):\n",
        "        img = img_array[i].reshape(28, 28).astype('uint8')\n",
        "        img = cv2.resize(img, (IMG_SIZE, IMG_SIZE))\n",
        "        img = img.astype('float32')/255\n",
        "        tmp[i] = img\n",
        "        \n",
        "    return tmp\n",
        "\n",
        "X_train2 = resize(X_train2)\n",
        "X_test2 = resize(X_test2)"
      ],
      "execution_count": 77,
      "outputs": []
    },
    {
      "cell_type": "code",
      "metadata": {
        "colab": {
          "base_uri": "https://localhost:8080/"
        },
        "id": "PTcHcoVz3_z2",
        "outputId": "50ef8d88-3b47-494c-9c1d-eff0cda1038a"
      },
      "source": [
        "X_train2 = np.stack((X_train2,)*3, axis=-1)\n",
        "X_test2 = np.stack((X_test2,)*3, axis=-1)\n",
        "print(X_train2.shape)\n",
        "print(X_test2.shape)"
      ],
      "execution_count": 78,
      "outputs": [
        {
          "output_type": "stream",
          "text": [
            "(60000, 32, 32, 3)\n",
            "(10000, 32, 32, 3)\n"
          ],
          "name": "stdout"
        }
      ]
    },
    {
      "cell_type": "code",
      "metadata": {
        "colab": {
          "base_uri": "https://localhost:8080/"
        },
        "id": "AAOGSU_f4DQj",
        "outputId": "7763e407-346e-488d-8f04-a8dfbf53d92d"
      },
      "source": [
        "from keras.utils import to_categorical\n",
        "y_train2 = to_categorical(y_train2, num_classes=10)\n",
        "print(y_train2.shape)\n",
        "y_test2 = to_categorical(y_test2, num_classes=10)\n",
        "print(y_test2.shape)"
      ],
      "execution_count": 79,
      "outputs": [
        {
          "output_type": "stream",
          "text": [
            "(60000, 10)\n",
            "(10000, 10)\n"
          ],
          "name": "stdout"
        }
      ]
    },
    {
      "cell_type": "code",
      "metadata": {
        "id": "TFL2WBt33zc5"
      },
      "source": [
        "vgg19 = VGG19(weights = 'imagenet', include_top=False, input_shape = (32, 32, 3))"
      ],
      "execution_count": 80,
      "outputs": []
    },
    {
      "cell_type": "code",
      "metadata": {
        "colab": {
          "base_uri": "https://localhost:8080/"
        },
        "id": "u68u4LID34RY",
        "outputId": "c6f4db78-df4e-4066-fa67-d0a6ba3e73bf"
      },
      "source": [
        "model2 = Sequential()\n",
        "model2.add(vgg19)\n",
        "model2.add(Flatten())\n",
        "model2.add(Dense(10, activation='softmax'))\n",
        "model2.compile(loss='categorical_crossentropy', \n",
        "              optimizer='Adam', \n",
        "              metrics=['accuracy'])\n",
        "\n",
        "model2.summary()"
      ],
      "execution_count": 82,
      "outputs": [
        {
          "output_type": "stream",
          "text": [
            "Model: \"sequential_8\"\n",
            "_________________________________________________________________\n",
            "Layer (type)                 Output Shape              Param #   \n",
            "=================================================================\n",
            "vgg19 (Functional)           (None, 1, 1, 512)         20024384  \n",
            "_________________________________________________________________\n",
            "flatten_6 (Flatten)          (None, 512)               0         \n",
            "_________________________________________________________________\n",
            "dense_14 (Dense)             (None, 10)                5130      \n",
            "=================================================================\n",
            "Total params: 20,029,514\n",
            "Trainable params: 20,029,514\n",
            "Non-trainable params: 0\n",
            "_________________________________________________________________\n"
          ],
          "name": "stdout"
        }
      ]
    },
    {
      "cell_type": "code",
      "metadata": {
        "id": "4Ujqt1X-4IOI"
      },
      "source": [
        "from keras.callbacks import ModelCheckpoint, EarlyStopping\n",
        "es = EarlyStopping(monitor='val_acc', verbose=1, patience=5)\n",
        "mc = ModelCheckpoint(filepath='mnist-vgg19.h5', verbose=1, monitor='val_acc')\n",
        "cb = [es, mc]"
      ],
      "execution_count": 83,
      "outputs": []
    },
    {
      "cell_type": "code",
      "metadata": {
        "colab": {
          "base_uri": "https://localhost:8080/"
        },
        "id": "uO3fDbo54MM8",
        "outputId": "68053ed0-9f0e-4acd-bcce-d79bbf1679e7"
      },
      "source": [
        "history2 = model2.fit(X_train2, y_train2, \n",
        "                    epochs=50, \n",
        "                    batch_size=128, \n",
        "                    validation_data=(X_test2, y_test2),\n",
        "                    callbacks=cb)"
      ],
      "execution_count": 85,
      "outputs": [
        {
          "output_type": "stream",
          "text": [
            "Epoch 1/50\n",
            "469/469 [==============================] - 31s 66ms/step - loss: 0.0600 - accuracy: 0.9855 - val_loss: 0.0378 - val_accuracy: 0.9911\n",
            "WARNING:tensorflow:Early stopping conditioned on metric `val_acc` which is not available. Available metrics are: loss,accuracy,val_loss,val_accuracy\n",
            "\n",
            "Epoch 00001: saving model to mnist-vgg19.h5\n",
            "Epoch 2/50\n",
            "469/469 [==============================] - 31s 67ms/step - loss: 0.0438 - accuracy: 0.9903 - val_loss: 0.0560 - val_accuracy: 0.9901\n",
            "WARNING:tensorflow:Early stopping conditioned on metric `val_acc` which is not available. Available metrics are: loss,accuracy,val_loss,val_accuracy\n",
            "\n",
            "Epoch 00002: saving model to mnist-vgg19.h5\n",
            "Epoch 3/50\n",
            "469/469 [==============================] - 31s 67ms/step - loss: 0.0552 - accuracy: 0.9879 - val_loss: 0.0567 - val_accuracy: 0.9864\n",
            "WARNING:tensorflow:Early stopping conditioned on metric `val_acc` which is not available. Available metrics are: loss,accuracy,val_loss,val_accuracy\n",
            "\n",
            "Epoch 00003: saving model to mnist-vgg19.h5\n",
            "Epoch 4/50\n",
            "469/469 [==============================] - 31s 67ms/step - loss: 0.0355 - accuracy: 0.9917 - val_loss: 0.0355 - val_accuracy: 0.9914\n",
            "WARNING:tensorflow:Early stopping conditioned on metric `val_acc` which is not available. Available metrics are: loss,accuracy,val_loss,val_accuracy\n",
            "\n",
            "Epoch 00004: saving model to mnist-vgg19.h5\n",
            "Epoch 5/50\n",
            "469/469 [==============================] - 32s 68ms/step - loss: 0.0430 - accuracy: 0.9905 - val_loss: 0.0487 - val_accuracy: 0.9877\n",
            "WARNING:tensorflow:Early stopping conditioned on metric `val_acc` which is not available. Available metrics are: loss,accuracy,val_loss,val_accuracy\n",
            "\n",
            "Epoch 00005: saving model to mnist-vgg19.h5\n",
            "Epoch 6/50\n",
            "469/469 [==============================] - 32s 68ms/step - loss: 0.0394 - accuracy: 0.9909 - val_loss: 0.0472 - val_accuracy: 0.9907\n",
            "WARNING:tensorflow:Early stopping conditioned on metric `val_acc` which is not available. Available metrics are: loss,accuracy,val_loss,val_accuracy\n",
            "\n",
            "Epoch 00006: saving model to mnist-vgg19.h5\n",
            "Epoch 7/50\n",
            "469/469 [==============================] - 32s 68ms/step - loss: 0.0353 - accuracy: 0.9919 - val_loss: 0.0764 - val_accuracy: 0.9842\n",
            "WARNING:tensorflow:Early stopping conditioned on metric `val_acc` which is not available. Available metrics are: loss,accuracy,val_loss,val_accuracy\n",
            "\n",
            "Epoch 00007: saving model to mnist-vgg19.h5\n",
            "Epoch 8/50\n",
            "469/469 [==============================] - 32s 68ms/step - loss: 0.0397 - accuracy: 0.9913 - val_loss: 0.0412 - val_accuracy: 0.9899\n",
            "WARNING:tensorflow:Early stopping conditioned on metric `val_acc` which is not available. Available metrics are: loss,accuracy,val_loss,val_accuracy\n",
            "\n",
            "Epoch 00008: saving model to mnist-vgg19.h5\n",
            "Epoch 9/50\n",
            "469/469 [==============================] - 32s 68ms/step - loss: 0.0385 - accuracy: 0.9920 - val_loss: 0.1203 - val_accuracy: 0.9919\n",
            "WARNING:tensorflow:Early stopping conditioned on metric `val_acc` which is not available. Available metrics are: loss,accuracy,val_loss,val_accuracy\n",
            "\n",
            "Epoch 00009: saving model to mnist-vgg19.h5\n",
            "Epoch 10/50\n",
            "469/469 [==============================] - 32s 68ms/step - loss: 0.0859 - accuracy: 0.9847 - val_loss: 0.0788 - val_accuracy: 0.9864\n",
            "WARNING:tensorflow:Early stopping conditioned on metric `val_acc` which is not available. Available metrics are: loss,accuracy,val_loss,val_accuracy\n",
            "\n",
            "Epoch 00010: saving model to mnist-vgg19.h5\n",
            "Epoch 11/50\n",
            "469/469 [==============================] - 32s 69ms/step - loss: 0.0337 - accuracy: 0.9924 - val_loss: 0.0468 - val_accuracy: 0.9893\n",
            "WARNING:tensorflow:Early stopping conditioned on metric `val_acc` which is not available. Available metrics are: loss,accuracy,val_loss,val_accuracy\n",
            "\n",
            "Epoch 00011: saving model to mnist-vgg19.h5\n",
            "Epoch 12/50\n",
            "469/469 [==============================] - 32s 68ms/step - loss: 0.0244 - accuracy: 0.9947 - val_loss: 0.0412 - val_accuracy: 0.9925\n",
            "WARNING:tensorflow:Early stopping conditioned on metric `val_acc` which is not available. Available metrics are: loss,accuracy,val_loss,val_accuracy\n",
            "\n",
            "Epoch 00012: saving model to mnist-vgg19.h5\n",
            "Epoch 13/50\n",
            "469/469 [==============================] - 32s 68ms/step - loss: 0.0195 - accuracy: 0.9956 - val_loss: 0.0313 - val_accuracy: 0.9947\n",
            "WARNING:tensorflow:Early stopping conditioned on metric `val_acc` which is not available. Available metrics are: loss,accuracy,val_loss,val_accuracy\n",
            "\n",
            "Epoch 00013: saving model to mnist-vgg19.h5\n",
            "Epoch 14/50\n",
            "469/469 [==============================] - 32s 68ms/step - loss: 0.0273 - accuracy: 0.9941 - val_loss: 0.0489 - val_accuracy: 0.9895\n",
            "WARNING:tensorflow:Early stopping conditioned on metric `val_acc` which is not available. Available metrics are: loss,accuracy,val_loss,val_accuracy\n",
            "\n",
            "Epoch 00014: saving model to mnist-vgg19.h5\n",
            "Epoch 15/50\n",
            "469/469 [==============================] - 32s 68ms/step - loss: 0.0286 - accuracy: 0.9935 - val_loss: 0.0423 - val_accuracy: 0.9921\n",
            "WARNING:tensorflow:Early stopping conditioned on metric `val_acc` which is not available. Available metrics are: loss,accuracy,val_loss,val_accuracy\n",
            "\n",
            "Epoch 00015: saving model to mnist-vgg19.h5\n",
            "Epoch 16/50\n",
            "469/469 [==============================] - 32s 68ms/step - loss: 0.0198 - accuracy: 0.9954 - val_loss: 0.0380 - val_accuracy: 0.9915\n",
            "WARNING:tensorflow:Early stopping conditioned on metric `val_acc` which is not available. Available metrics are: loss,accuracy,val_loss,val_accuracy\n",
            "\n",
            "Epoch 00016: saving model to mnist-vgg19.h5\n",
            "Epoch 17/50\n",
            "469/469 [==============================] - 32s 68ms/step - loss: 0.0352 - accuracy: 0.9922 - val_loss: 0.0455 - val_accuracy: 0.9916\n",
            "WARNING:tensorflow:Early stopping conditioned on metric `val_acc` which is not available. Available metrics are: loss,accuracy,val_loss,val_accuracy\n",
            "\n",
            "Epoch 00017: saving model to mnist-vgg19.h5\n",
            "Epoch 18/50\n",
            "469/469 [==============================] - 32s 68ms/step - loss: 0.0247 - accuracy: 0.9950 - val_loss: 0.0334 - val_accuracy: 0.9926\n",
            "WARNING:tensorflow:Early stopping conditioned on metric `val_acc` which is not available. Available metrics are: loss,accuracy,val_loss,val_accuracy\n",
            "\n",
            "Epoch 00018: saving model to mnist-vgg19.h5\n",
            "Epoch 19/50\n",
            "469/469 [==============================] - 32s 68ms/step - loss: 0.0181 - accuracy: 0.9958 - val_loss: 0.0642 - val_accuracy: 0.9845\n",
            "WARNING:tensorflow:Early stopping conditioned on metric `val_acc` which is not available. Available metrics are: loss,accuracy,val_loss,val_accuracy\n",
            "\n",
            "Epoch 00019: saving model to mnist-vgg19.h5\n",
            "Epoch 20/50\n",
            "469/469 [==============================] - 32s 68ms/step - loss: 0.0264 - accuracy: 0.9938 - val_loss: 0.0605 - val_accuracy: 0.9889\n",
            "WARNING:tensorflow:Early stopping conditioned on metric `val_acc` which is not available. Available metrics are: loss,accuracy,val_loss,val_accuracy\n",
            "\n",
            "Epoch 00020: saving model to mnist-vgg19.h5\n",
            "Epoch 21/50\n",
            "469/469 [==============================] - 32s 68ms/step - loss: 0.0444 - accuracy: 0.9909 - val_loss: 0.0365 - val_accuracy: 0.9923\n",
            "WARNING:tensorflow:Early stopping conditioned on metric `val_acc` which is not available. Available metrics are: loss,accuracy,val_loss,val_accuracy\n",
            "\n",
            "Epoch 00021: saving model to mnist-vgg19.h5\n",
            "Epoch 22/50\n",
            "469/469 [==============================] - 32s 68ms/step - loss: 0.0170 - accuracy: 0.9962 - val_loss: 0.0343 - val_accuracy: 0.9917\n",
            "WARNING:tensorflow:Early stopping conditioned on metric `val_acc` which is not available. Available metrics are: loss,accuracy,val_loss,val_accuracy\n",
            "\n",
            "Epoch 00022: saving model to mnist-vgg19.h5\n",
            "Epoch 23/50\n",
            "469/469 [==============================] - 32s 68ms/step - loss: 0.0097 - accuracy: 0.9977 - val_loss: 0.0369 - val_accuracy: 0.9929\n",
            "WARNING:tensorflow:Early stopping conditioned on metric `val_acc` which is not available. Available metrics are: loss,accuracy,val_loss,val_accuracy\n",
            "\n",
            "Epoch 00023: saving model to mnist-vgg19.h5\n",
            "Epoch 24/50\n",
            "469/469 [==============================] - 32s 68ms/step - loss: 0.0059 - accuracy: 0.9986 - val_loss: 0.0620 - val_accuracy: 0.9880\n",
            "WARNING:tensorflow:Early stopping conditioned on metric `val_acc` which is not available. Available metrics are: loss,accuracy,val_loss,val_accuracy\n",
            "\n",
            "Epoch 00024: saving model to mnist-vgg19.h5\n",
            "Epoch 25/50\n",
            "469/469 [==============================] - 32s 68ms/step - loss: 0.0216 - accuracy: 0.9952 - val_loss: 0.0303 - val_accuracy: 0.9927\n",
            "WARNING:tensorflow:Early stopping conditioned on metric `val_acc` which is not available. Available metrics are: loss,accuracy,val_loss,val_accuracy\n",
            "\n",
            "Epoch 00025: saving model to mnist-vgg19.h5\n",
            "Epoch 26/50\n",
            "469/469 [==============================] - 32s 68ms/step - loss: 0.0253 - accuracy: 0.9948 - val_loss: 0.0486 - val_accuracy: 0.9905\n",
            "WARNING:tensorflow:Early stopping conditioned on metric `val_acc` which is not available. Available metrics are: loss,accuracy,val_loss,val_accuracy\n",
            "\n",
            "Epoch 00026: saving model to mnist-vgg19.h5\n",
            "Epoch 27/50\n",
            "469/469 [==============================] - 32s 68ms/step - loss: 0.0298 - accuracy: 0.9947 - val_loss: 0.0512 - val_accuracy: 0.9894\n",
            "WARNING:tensorflow:Early stopping conditioned on metric `val_acc` which is not available. Available metrics are: loss,accuracy,val_loss,val_accuracy\n",
            "\n",
            "Epoch 00027: saving model to mnist-vgg19.h5\n",
            "Epoch 28/50\n",
            "469/469 [==============================] - 32s 68ms/step - loss: 0.0470 - accuracy: 0.9905 - val_loss: 0.0441 - val_accuracy: 0.9895\n",
            "WARNING:tensorflow:Early stopping conditioned on metric `val_acc` which is not available. Available metrics are: loss,accuracy,val_loss,val_accuracy\n",
            "\n",
            "Epoch 00028: saving model to mnist-vgg19.h5\n",
            "Epoch 29/50\n",
            "469/469 [==============================] - 32s 68ms/step - loss: 0.0150 - accuracy: 0.9964 - val_loss: 0.0369 - val_accuracy: 0.9920\n",
            "WARNING:tensorflow:Early stopping conditioned on metric `val_acc` which is not available. Available metrics are: loss,accuracy,val_loss,val_accuracy\n",
            "\n",
            "Epoch 00029: saving model to mnist-vgg19.h5\n",
            "Epoch 30/50\n",
            "469/469 [==============================] - 32s 68ms/step - loss: 0.0095 - accuracy: 0.9980 - val_loss: 0.0439 - val_accuracy: 0.9937\n",
            "WARNING:tensorflow:Early stopping conditioned on metric `val_acc` which is not available. Available metrics are: loss,accuracy,val_loss,val_accuracy\n",
            "\n",
            "Epoch 00030: saving model to mnist-vgg19.h5\n",
            "Epoch 31/50\n",
            "469/469 [==============================] - 32s 68ms/step - loss: 0.0145 - accuracy: 0.9970 - val_loss: 0.0322 - val_accuracy: 0.9936\n",
            "WARNING:tensorflow:Early stopping conditioned on metric `val_acc` which is not available. Available metrics are: loss,accuracy,val_loss,val_accuracy\n",
            "\n",
            "Epoch 00031: saving model to mnist-vgg19.h5\n",
            "Epoch 32/50\n",
            "469/469 [==============================] - 32s 68ms/step - loss: 0.0160 - accuracy: 0.9971 - val_loss: 0.0907 - val_accuracy: 0.9814\n",
            "WARNING:tensorflow:Early stopping conditioned on metric `val_acc` which is not available. Available metrics are: loss,accuracy,val_loss,val_accuracy\n",
            "\n",
            "Epoch 00032: saving model to mnist-vgg19.h5\n",
            "Epoch 33/50\n",
            "469/469 [==============================] - 32s 68ms/step - loss: 0.0239 - accuracy: 0.9948 - val_loss: 0.0632 - val_accuracy: 0.9877\n",
            "WARNING:tensorflow:Early stopping conditioned on metric `val_acc` which is not available. Available metrics are: loss,accuracy,val_loss,val_accuracy\n",
            "\n",
            "Epoch 00033: saving model to mnist-vgg19.h5\n",
            "Epoch 34/50\n",
            "469/469 [==============================] - 32s 68ms/step - loss: 0.0136 - accuracy: 0.9972 - val_loss: 0.0328 - val_accuracy: 0.9947\n",
            "WARNING:tensorflow:Early stopping conditioned on metric `val_acc` which is not available. Available metrics are: loss,accuracy,val_loss,val_accuracy\n",
            "\n",
            "Epoch 00034: saving model to mnist-vgg19.h5\n",
            "Epoch 35/50\n",
            "469/469 [==============================] - 32s 68ms/step - loss: 0.0040 - accuracy: 0.9990 - val_loss: 0.0953 - val_accuracy: 0.9939\n",
            "WARNING:tensorflow:Early stopping conditioned on metric `val_acc` which is not available. Available metrics are: loss,accuracy,val_loss,val_accuracy\n",
            "\n",
            "Epoch 00035: saving model to mnist-vgg19.h5\n",
            "Epoch 36/50\n",
            "469/469 [==============================] - 32s 68ms/step - loss: 0.0220 - accuracy: 0.9953 - val_loss: 0.0371 - val_accuracy: 0.9920\n",
            "WARNING:tensorflow:Early stopping conditioned on metric `val_acc` which is not available. Available metrics are: loss,accuracy,val_loss,val_accuracy\n",
            "\n",
            "Epoch 00036: saving model to mnist-vgg19.h5\n",
            "Epoch 37/50\n",
            "469/469 [==============================] - 32s 68ms/step - loss: 0.0156 - accuracy: 0.9966 - val_loss: 0.0336 - val_accuracy: 0.9932\n",
            "WARNING:tensorflow:Early stopping conditioned on metric `val_acc` which is not available. Available metrics are: loss,accuracy,val_loss,val_accuracy\n",
            "\n",
            "Epoch 00037: saving model to mnist-vgg19.h5\n",
            "Epoch 38/50\n",
            "469/469 [==============================] - 32s 68ms/step - loss: 0.0081 - accuracy: 0.9983 - val_loss: 0.0448 - val_accuracy: 0.9948\n",
            "WARNING:tensorflow:Early stopping conditioned on metric `val_acc` which is not available. Available metrics are: loss,accuracy,val_loss,val_accuracy\n",
            "\n",
            "Epoch 00038: saving model to mnist-vgg19.h5\n",
            "Epoch 39/50\n",
            "469/469 [==============================] - 32s 68ms/step - loss: 0.0206 - accuracy: 0.9960 - val_loss: 0.0369 - val_accuracy: 0.9946\n",
            "WARNING:tensorflow:Early stopping conditioned on metric `val_acc` which is not available. Available metrics are: loss,accuracy,val_loss,val_accuracy\n",
            "\n",
            "Epoch 00039: saving model to mnist-vgg19.h5\n",
            "Epoch 40/50\n",
            "469/469 [==============================] - 32s 68ms/step - loss: 0.0089 - accuracy: 0.9978 - val_loss: 0.0347 - val_accuracy: 0.9934\n",
            "WARNING:tensorflow:Early stopping conditioned on metric `val_acc` which is not available. Available metrics are: loss,accuracy,val_loss,val_accuracy\n",
            "\n",
            "Epoch 00040: saving model to mnist-vgg19.h5\n",
            "Epoch 41/50\n",
            "469/469 [==============================] - 32s 68ms/step - loss: 0.0101 - accuracy: 0.9979 - val_loss: 0.0413 - val_accuracy: 0.9924\n",
            "WARNING:tensorflow:Early stopping conditioned on metric `val_acc` which is not available. Available metrics are: loss,accuracy,val_loss,val_accuracy\n",
            "\n",
            "Epoch 00041: saving model to mnist-vgg19.h5\n",
            "Epoch 42/50\n",
            "469/469 [==============================] - 32s 69ms/step - loss: 0.0153 - accuracy: 0.9964 - val_loss: 0.0370 - val_accuracy: 0.9936\n",
            "WARNING:tensorflow:Early stopping conditioned on metric `val_acc` which is not available. Available metrics are: loss,accuracy,val_loss,val_accuracy\n",
            "\n",
            "Epoch 00042: saving model to mnist-vgg19.h5\n",
            "Epoch 43/50\n",
            "469/469 [==============================] - 32s 68ms/step - loss: 0.0084 - accuracy: 0.9979 - val_loss: 0.0382 - val_accuracy: 0.9911\n",
            "WARNING:tensorflow:Early stopping conditioned on metric `val_acc` which is not available. Available metrics are: loss,accuracy,val_loss,val_accuracy\n",
            "\n",
            "Epoch 00043: saving model to mnist-vgg19.h5\n",
            "Epoch 44/50\n",
            "469/469 [==============================] - 32s 68ms/step - loss: 0.0152 - accuracy: 0.9967 - val_loss: 0.0455 - val_accuracy: 0.9921\n",
            "WARNING:tensorflow:Early stopping conditioned on metric `val_acc` which is not available. Available metrics are: loss,accuracy,val_loss,val_accuracy\n",
            "\n",
            "Epoch 00044: saving model to mnist-vgg19.h5\n",
            "Epoch 45/50\n",
            "469/469 [==============================] - 32s 68ms/step - loss: 0.0111 - accuracy: 0.9976 - val_loss: 0.0414 - val_accuracy: 0.9938\n",
            "WARNING:tensorflow:Early stopping conditioned on metric `val_acc` which is not available. Available metrics are: loss,accuracy,val_loss,val_accuracy\n",
            "\n",
            "Epoch 00045: saving model to mnist-vgg19.h5\n",
            "Epoch 46/50\n",
            "469/469 [==============================] - 32s 68ms/step - loss: 0.0219 - accuracy: 0.9962 - val_loss: 0.0573 - val_accuracy: 0.9900\n",
            "WARNING:tensorflow:Early stopping conditioned on metric `val_acc` which is not available. Available metrics are: loss,accuracy,val_loss,val_accuracy\n",
            "\n",
            "Epoch 00046: saving model to mnist-vgg19.h5\n",
            "Epoch 47/50\n",
            "469/469 [==============================] - 32s 68ms/step - loss: 0.0151 - accuracy: 0.9971 - val_loss: 0.0496 - val_accuracy: 0.9913\n",
            "WARNING:tensorflow:Early stopping conditioned on metric `val_acc` which is not available. Available metrics are: loss,accuracy,val_loss,val_accuracy\n",
            "\n",
            "Epoch 00047: saving model to mnist-vgg19.h5\n",
            "Epoch 48/50\n",
            "469/469 [==============================] - 32s 68ms/step - loss: 0.0419 - accuracy: 0.9932 - val_loss: 0.0781 - val_accuracy: 0.9842\n",
            "WARNING:tensorflow:Early stopping conditioned on metric `val_acc` which is not available. Available metrics are: loss,accuracy,val_loss,val_accuracy\n",
            "\n",
            "Epoch 00048: saving model to mnist-vgg19.h5\n",
            "Epoch 49/50\n",
            "469/469 [==============================] - 32s 68ms/step - loss: 0.0231 - accuracy: 0.9955 - val_loss: 0.0360 - val_accuracy: 0.9940\n",
            "WARNING:tensorflow:Early stopping conditioned on metric `val_acc` which is not available. Available metrics are: loss,accuracy,val_loss,val_accuracy\n",
            "\n",
            "Epoch 00049: saving model to mnist-vgg19.h5\n",
            "Epoch 50/50\n",
            "469/469 [==============================] - 32s 68ms/step - loss: 0.0053 - accuracy: 0.9988 - val_loss: 0.0326 - val_accuracy: 0.9947\n",
            "WARNING:tensorflow:Early stopping conditioned on metric `val_acc` which is not available. Available metrics are: loss,accuracy,val_loss,val_accuracy\n",
            "\n",
            "Epoch 00050: saving model to mnist-vgg19.h5\n"
          ],
          "name": "stdout"
        }
      ]
    },
    {
      "cell_type": "markdown",
      "metadata": {
        "id": "5tRBhI-vAjjf"
      },
      "source": [
        "At te end of 50 epochs:\n",
        "Training accuracy : 0.9988\n",
        "Validation accuracy : 0.9947\n",
        "\n",
        "This tells us that the accuarcy is pretty good for the pretrained model."
      ]
    },
    {
      "cell_type": "markdown",
      "metadata": {
        "id": "pPpqIMwb6oMK"
      },
      "source": [
        "Using the same model1 from Task-1 to compare the performance on MNIST dataset in comparison to pretrained network\n"
      ]
    },
    {
      "cell_type": "markdown",
      "metadata": {
        "id": "MLaVlfYG8_ic"
      },
      "source": [
        "(model1 = model3)"
      ]
    },
    {
      "cell_type": "code",
      "metadata": {
        "colab": {
          "base_uri": "https://localhost:8080/"
        },
        "id": "vaFKHoRO65-e",
        "outputId": "43462a02-f0c6-40a3-cb06-4e23086872f6"
      },
      "source": [
        "model3 = Sequential()\n",
        "model3.add(Conv2D(filters=64, kernel_size=(5,5), padding = 'same', activation='relu', input_shape=(32, 32, 3)))\n",
        "model3.add(MaxPooling2D(pool_size=(2,2), strides = (2,2)))\n",
        "model3.add(Conv2D(filters=32, kernel_size=(3,3), padding = 'same', activation='relu'))\n",
        "model3.add(MaxPooling2D(pool_size=(2,2)))\n",
        "model3.add(Flatten())\n",
        "model3.add(Dense(units=128, activation='relu'))\n",
        "model3.add(Dropout(0.2))\n",
        "model3.add(Dense(units = 10, activation='softmax'))\n",
        "\n",
        "model3.summary()"
      ],
      "execution_count": 91,
      "outputs": [
        {
          "output_type": "stream",
          "text": [
            "Model: \"sequential_10\"\n",
            "_________________________________________________________________\n",
            "Layer (type)                 Output Shape              Param #   \n",
            "=================================================================\n",
            "conv2d_17 (Conv2D)           (None, 32, 32, 64)        4864      \n",
            "_________________________________________________________________\n",
            "max_pooling2d_17 (MaxPooling (None, 16, 16, 64)        0         \n",
            "_________________________________________________________________\n",
            "conv2d_18 (Conv2D)           (None, 16, 16, 32)        18464     \n",
            "_________________________________________________________________\n",
            "max_pooling2d_18 (MaxPooling (None, 8, 8, 32)          0         \n",
            "_________________________________________________________________\n",
            "flatten_8 (Flatten)          (None, 2048)              0         \n",
            "_________________________________________________________________\n",
            "dense_17 (Dense)             (None, 128)               262272    \n",
            "_________________________________________________________________\n",
            "dropout_8 (Dropout)          (None, 128)               0         \n",
            "_________________________________________________________________\n",
            "dense_18 (Dense)             (None, 10)                1290      \n",
            "=================================================================\n",
            "Total params: 286,890\n",
            "Trainable params: 286,890\n",
            "Non-trainable params: 0\n",
            "_________________________________________________________________\n"
          ],
          "name": "stdout"
        }
      ]
    },
    {
      "cell_type": "code",
      "metadata": {
        "id": "h6k0udm67Dao"
      },
      "source": [
        "model3.compile(optimizer='Adam', loss = 'categorical_crossentropy', metrics=['accuracy'])"
      ],
      "execution_count": 92,
      "outputs": []
    },
    {
      "cell_type": "code",
      "metadata": {
        "id": "MdcXF1Hu7ISP"
      },
      "source": [
        "from keras.callbacks import ModelCheckpoint, EarlyStopping\n",
        "es = EarlyStopping(monitor='val_acc', verbose=1, patience=5)\n",
        "mc = ModelCheckpoint(filepath='random_model.h5', verbose=1, monitor='val_acc')\n",
        "cb = [es, mc]"
      ],
      "execution_count": 93,
      "outputs": []
    },
    {
      "cell_type": "code",
      "metadata": {
        "colab": {
          "base_uri": "https://localhost:8080/"
        },
        "id": "mUx5hucy5QBg",
        "outputId": "8c2385a7-ff1c-442c-c3c4-5bc49195eb35"
      },
      "source": [
        "history2 = model3.fit(X_train2, y_train2, \n",
        "                    epochs=50, \n",
        "                    batch_size=128, \n",
        "                    validation_data=(X_test2, y_test2),\n",
        "                    callbacks=cb)"
      ],
      "execution_count": 94,
      "outputs": [
        {
          "output_type": "stream",
          "text": [
            "Epoch 1/50\n",
            "469/469 [==============================] - 4s 7ms/step - loss: 0.4510 - accuracy: 0.8598 - val_loss: 0.0468 - val_accuracy: 0.9861\n",
            "WARNING:tensorflow:Early stopping conditioned on metric `val_acc` which is not available. Available metrics are: loss,accuracy,val_loss,val_accuracy\n",
            "\n",
            "Epoch 00001: saving model to random_model.h5\n",
            "Epoch 2/50\n",
            "469/469 [==============================] - 3s 7ms/step - loss: 0.0617 - accuracy: 0.9805 - val_loss: 0.0320 - val_accuracy: 0.9896\n",
            "WARNING:tensorflow:Early stopping conditioned on metric `val_acc` which is not available. Available metrics are: loss,accuracy,val_loss,val_accuracy\n",
            "\n",
            "Epoch 00002: saving model to random_model.h5\n",
            "Epoch 3/50\n",
            "469/469 [==============================] - 3s 7ms/step - loss: 0.0393 - accuracy: 0.9876 - val_loss: 0.0320 - val_accuracy: 0.9896\n",
            "WARNING:tensorflow:Early stopping conditioned on metric `val_acc` which is not available. Available metrics are: loss,accuracy,val_loss,val_accuracy\n",
            "\n",
            "Epoch 00003: saving model to random_model.h5\n",
            "Epoch 4/50\n",
            "469/469 [==============================] - 3s 7ms/step - loss: 0.0302 - accuracy: 0.9903 - val_loss: 0.0279 - val_accuracy: 0.9910\n",
            "WARNING:tensorflow:Early stopping conditioned on metric `val_acc` which is not available. Available metrics are: loss,accuracy,val_loss,val_accuracy\n",
            "\n",
            "Epoch 00004: saving model to random_model.h5\n",
            "Epoch 5/50\n",
            "469/469 [==============================] - 3s 7ms/step - loss: 0.0252 - accuracy: 0.9918 - val_loss: 0.0276 - val_accuracy: 0.9914\n",
            "WARNING:tensorflow:Early stopping conditioned on metric `val_acc` which is not available. Available metrics are: loss,accuracy,val_loss,val_accuracy\n",
            "\n",
            "Epoch 00005: saving model to random_model.h5\n",
            "Epoch 6/50\n",
            "469/469 [==============================] - 3s 7ms/step - loss: 0.0223 - accuracy: 0.9929 - val_loss: 0.0328 - val_accuracy: 0.9912\n",
            "WARNING:tensorflow:Early stopping conditioned on metric `val_acc` which is not available. Available metrics are: loss,accuracy,val_loss,val_accuracy\n",
            "\n",
            "Epoch 00006: saving model to random_model.h5\n",
            "Epoch 7/50\n",
            "469/469 [==============================] - 3s 7ms/step - loss: 0.0190 - accuracy: 0.9935 - val_loss: 0.0261 - val_accuracy: 0.9922\n",
            "WARNING:tensorflow:Early stopping conditioned on metric `val_acc` which is not available. Available metrics are: loss,accuracy,val_loss,val_accuracy\n",
            "\n",
            "Epoch 00007: saving model to random_model.h5\n",
            "Epoch 8/50\n",
            "469/469 [==============================] - 3s 7ms/step - loss: 0.0159 - accuracy: 0.9947 - val_loss: 0.0280 - val_accuracy: 0.9919\n",
            "WARNING:tensorflow:Early stopping conditioned on metric `val_acc` which is not available. Available metrics are: loss,accuracy,val_loss,val_accuracy\n",
            "\n",
            "Epoch 00008: saving model to random_model.h5\n",
            "Epoch 9/50\n",
            "469/469 [==============================] - 3s 7ms/step - loss: 0.0138 - accuracy: 0.9955 - val_loss: 0.0238 - val_accuracy: 0.9929\n",
            "WARNING:tensorflow:Early stopping conditioned on metric `val_acc` which is not available. Available metrics are: loss,accuracy,val_loss,val_accuracy\n",
            "\n",
            "Epoch 00009: saving model to random_model.h5\n",
            "Epoch 10/50\n",
            "469/469 [==============================] - 3s 7ms/step - loss: 0.0111 - accuracy: 0.9962 - val_loss: 0.0256 - val_accuracy: 0.9931\n",
            "WARNING:tensorflow:Early stopping conditioned on metric `val_acc` which is not available. Available metrics are: loss,accuracy,val_loss,val_accuracy\n",
            "\n",
            "Epoch 00010: saving model to random_model.h5\n",
            "Epoch 11/50\n",
            "469/469 [==============================] - 3s 7ms/step - loss: 0.0107 - accuracy: 0.9966 - val_loss: 0.0295 - val_accuracy: 0.9913\n",
            "WARNING:tensorflow:Early stopping conditioned on metric `val_acc` which is not available. Available metrics are: loss,accuracy,val_loss,val_accuracy\n",
            "\n",
            "Epoch 00011: saving model to random_model.h5\n",
            "Epoch 12/50\n",
            "469/469 [==============================] - 3s 7ms/step - loss: 0.0102 - accuracy: 0.9961 - val_loss: 0.0279 - val_accuracy: 0.9927\n",
            "WARNING:tensorflow:Early stopping conditioned on metric `val_acc` which is not available. Available metrics are: loss,accuracy,val_loss,val_accuracy\n",
            "\n",
            "Epoch 00012: saving model to random_model.h5\n",
            "Epoch 13/50\n",
            "469/469 [==============================] - 3s 7ms/step - loss: 0.0110 - accuracy: 0.9960 - val_loss: 0.0294 - val_accuracy: 0.9937\n",
            "WARNING:tensorflow:Early stopping conditioned on metric `val_acc` which is not available. Available metrics are: loss,accuracy,val_loss,val_accuracy\n",
            "\n",
            "Epoch 00013: saving model to random_model.h5\n",
            "Epoch 14/50\n",
            "469/469 [==============================] - 3s 7ms/step - loss: 0.0088 - accuracy: 0.9970 - val_loss: 0.0374 - val_accuracy: 0.9905\n",
            "WARNING:tensorflow:Early stopping conditioned on metric `val_acc` which is not available. Available metrics are: loss,accuracy,val_loss,val_accuracy\n",
            "\n",
            "Epoch 00014: saving model to random_model.h5\n",
            "Epoch 15/50\n",
            "469/469 [==============================] - 3s 7ms/step - loss: 0.0062 - accuracy: 0.9977 - val_loss: 0.0374 - val_accuracy: 0.9919\n",
            "WARNING:tensorflow:Early stopping conditioned on metric `val_acc` which is not available. Available metrics are: loss,accuracy,val_loss,val_accuracy\n",
            "\n",
            "Epoch 00015: saving model to random_model.h5\n",
            "Epoch 16/50\n",
            "469/469 [==============================] - 3s 7ms/step - loss: 0.0074 - accuracy: 0.9976 - val_loss: 0.0320 - val_accuracy: 0.9927\n",
            "WARNING:tensorflow:Early stopping conditioned on metric `val_acc` which is not available. Available metrics are: loss,accuracy,val_loss,val_accuracy\n",
            "\n",
            "Epoch 00016: saving model to random_model.h5\n",
            "Epoch 17/50\n",
            "469/469 [==============================] - 3s 7ms/step - loss: 0.0057 - accuracy: 0.9982 - val_loss: 0.0306 - val_accuracy: 0.9924\n",
            "WARNING:tensorflow:Early stopping conditioned on metric `val_acc` which is not available. Available metrics are: loss,accuracy,val_loss,val_accuracy\n",
            "\n",
            "Epoch 00017: saving model to random_model.h5\n",
            "Epoch 18/50\n",
            "469/469 [==============================] - 3s 7ms/step - loss: 0.0058 - accuracy: 0.9981 - val_loss: 0.0380 - val_accuracy: 0.9917\n",
            "WARNING:tensorflow:Early stopping conditioned on metric `val_acc` which is not available. Available metrics are: loss,accuracy,val_loss,val_accuracy\n",
            "\n",
            "Epoch 00018: saving model to random_model.h5\n",
            "Epoch 19/50\n",
            "469/469 [==============================] - 3s 7ms/step - loss: 0.0053 - accuracy: 0.9982 - val_loss: 0.0411 - val_accuracy: 0.9908\n",
            "WARNING:tensorflow:Early stopping conditioned on metric `val_acc` which is not available. Available metrics are: loss,accuracy,val_loss,val_accuracy\n",
            "\n",
            "Epoch 00019: saving model to random_model.h5\n",
            "Epoch 20/50\n",
            "469/469 [==============================] - 3s 7ms/step - loss: 0.0056 - accuracy: 0.9984 - val_loss: 0.0366 - val_accuracy: 0.9918\n",
            "WARNING:tensorflow:Early stopping conditioned on metric `val_acc` which is not available. Available metrics are: loss,accuracy,val_loss,val_accuracy\n",
            "\n",
            "Epoch 00020: saving model to random_model.h5\n",
            "Epoch 21/50\n",
            "469/469 [==============================] - 3s 7ms/step - loss: 0.0061 - accuracy: 0.9980 - val_loss: 0.0375 - val_accuracy: 0.9917\n",
            "WARNING:tensorflow:Early stopping conditioned on metric `val_acc` which is not available. Available metrics are: loss,accuracy,val_loss,val_accuracy\n",
            "\n",
            "Epoch 00021: saving model to random_model.h5\n",
            "Epoch 22/50\n",
            "469/469 [==============================] - 3s 7ms/step - loss: 0.0053 - accuracy: 0.9984 - val_loss: 0.0390 - val_accuracy: 0.9918\n",
            "WARNING:tensorflow:Early stopping conditioned on metric `val_acc` which is not available. Available metrics are: loss,accuracy,val_loss,val_accuracy\n",
            "\n",
            "Epoch 00022: saving model to random_model.h5\n",
            "Epoch 23/50\n",
            "469/469 [==============================] - 3s 7ms/step - loss: 0.0066 - accuracy: 0.9979 - val_loss: 0.0387 - val_accuracy: 0.9915\n",
            "WARNING:tensorflow:Early stopping conditioned on metric `val_acc` which is not available. Available metrics are: loss,accuracy,val_loss,val_accuracy\n",
            "\n",
            "Epoch 00023: saving model to random_model.h5\n",
            "Epoch 24/50\n",
            "469/469 [==============================] - 3s 7ms/step - loss: 0.0069 - accuracy: 0.9981 - val_loss: 0.0368 - val_accuracy: 0.9929\n",
            "WARNING:tensorflow:Early stopping conditioned on metric `val_acc` which is not available. Available metrics are: loss,accuracy,val_loss,val_accuracy\n",
            "\n",
            "Epoch 00024: saving model to random_model.h5\n",
            "Epoch 25/50\n",
            "469/469 [==============================] - 3s 7ms/step - loss: 0.0043 - accuracy: 0.9985 - val_loss: 0.0360 - val_accuracy: 0.9925\n",
            "WARNING:tensorflow:Early stopping conditioned on metric `val_acc` which is not available. Available metrics are: loss,accuracy,val_loss,val_accuracy\n",
            "\n",
            "Epoch 00025: saving model to random_model.h5\n",
            "Epoch 26/50\n",
            "469/469 [==============================] - 3s 7ms/step - loss: 0.0035 - accuracy: 0.9989 - val_loss: 0.0416 - val_accuracy: 0.9922\n",
            "WARNING:tensorflow:Early stopping conditioned on metric `val_acc` which is not available. Available metrics are: loss,accuracy,val_loss,val_accuracy\n",
            "\n",
            "Epoch 00026: saving model to random_model.h5\n",
            "Epoch 27/50\n",
            "469/469 [==============================] - 3s 7ms/step - loss: 0.0051 - accuracy: 0.9981 - val_loss: 0.0397 - val_accuracy: 0.9923\n",
            "WARNING:tensorflow:Early stopping conditioned on metric `val_acc` which is not available. Available metrics are: loss,accuracy,val_loss,val_accuracy\n",
            "\n",
            "Epoch 00027: saving model to random_model.h5\n",
            "Epoch 28/50\n",
            "469/469 [==============================] - 3s 7ms/step - loss: 0.0046 - accuracy: 0.9984 - val_loss: 0.0439 - val_accuracy: 0.9912\n",
            "WARNING:tensorflow:Early stopping conditioned on metric `val_acc` which is not available. Available metrics are: loss,accuracy,val_loss,val_accuracy\n",
            "\n",
            "Epoch 00028: saving model to random_model.h5\n",
            "Epoch 29/50\n",
            "469/469 [==============================] - 3s 7ms/step - loss: 0.0040 - accuracy: 0.9985 - val_loss: 0.0429 - val_accuracy: 0.9923\n",
            "WARNING:tensorflow:Early stopping conditioned on metric `val_acc` which is not available. Available metrics are: loss,accuracy,val_loss,val_accuracy\n",
            "\n",
            "Epoch 00029: saving model to random_model.h5\n",
            "Epoch 30/50\n",
            "469/469 [==============================] - 3s 7ms/step - loss: 0.0048 - accuracy: 0.9983 - val_loss: 0.0377 - val_accuracy: 0.9933\n",
            "WARNING:tensorflow:Early stopping conditioned on metric `val_acc` which is not available. Available metrics are: loss,accuracy,val_loss,val_accuracy\n",
            "\n",
            "Epoch 00030: saving model to random_model.h5\n",
            "Epoch 31/50\n",
            "469/469 [==============================] - 3s 7ms/step - loss: 0.0043 - accuracy: 0.9985 - val_loss: 0.0373 - val_accuracy: 0.9925\n",
            "WARNING:tensorflow:Early stopping conditioned on metric `val_acc` which is not available. Available metrics are: loss,accuracy,val_loss,val_accuracy\n",
            "\n",
            "Epoch 00031: saving model to random_model.h5\n",
            "Epoch 32/50\n",
            "469/469 [==============================] - 3s 7ms/step - loss: 0.0027 - accuracy: 0.9990 - val_loss: 0.0466 - val_accuracy: 0.9922\n",
            "WARNING:tensorflow:Early stopping conditioned on metric `val_acc` which is not available. Available metrics are: loss,accuracy,val_loss,val_accuracy\n",
            "\n",
            "Epoch 00032: saving model to random_model.h5\n",
            "Epoch 33/50\n",
            "469/469 [==============================] - 3s 7ms/step - loss: 0.0051 - accuracy: 0.9981 - val_loss: 0.0410 - val_accuracy: 0.9930\n",
            "WARNING:tensorflow:Early stopping conditioned on metric `val_acc` which is not available. Available metrics are: loss,accuracy,val_loss,val_accuracy\n",
            "\n",
            "Epoch 00033: saving model to random_model.h5\n",
            "Epoch 34/50\n",
            "469/469 [==============================] - 3s 7ms/step - loss: 0.0038 - accuracy: 0.9988 - val_loss: 0.0444 - val_accuracy: 0.9933\n",
            "WARNING:tensorflow:Early stopping conditioned on metric `val_acc` which is not available. Available metrics are: loss,accuracy,val_loss,val_accuracy\n",
            "\n",
            "Epoch 00034: saving model to random_model.h5\n",
            "Epoch 35/50\n",
            "469/469 [==============================] - 3s 7ms/step - loss: 0.0028 - accuracy: 0.9991 - val_loss: 0.0604 - val_accuracy: 0.9909\n",
            "WARNING:tensorflow:Early stopping conditioned on metric `val_acc` which is not available. Available metrics are: loss,accuracy,val_loss,val_accuracy\n",
            "\n",
            "Epoch 00035: saving model to random_model.h5\n",
            "Epoch 36/50\n",
            "469/469 [==============================] - 3s 7ms/step - loss: 0.0052 - accuracy: 0.9981 - val_loss: 0.0454 - val_accuracy: 0.9922\n",
            "WARNING:tensorflow:Early stopping conditioned on metric `val_acc` which is not available. Available metrics are: loss,accuracy,val_loss,val_accuracy\n",
            "\n",
            "Epoch 00036: saving model to random_model.h5\n",
            "Epoch 37/50\n",
            "469/469 [==============================] - 3s 7ms/step - loss: 0.0038 - accuracy: 0.9988 - val_loss: 0.0421 - val_accuracy: 0.9925\n",
            "WARNING:tensorflow:Early stopping conditioned on metric `val_acc` which is not available. Available metrics are: loss,accuracy,val_loss,val_accuracy\n",
            "\n",
            "Epoch 00037: saving model to random_model.h5\n",
            "Epoch 38/50\n",
            "469/469 [==============================] - 3s 7ms/step - loss: 0.0043 - accuracy: 0.9986 - val_loss: 0.0450 - val_accuracy: 0.9920\n",
            "WARNING:tensorflow:Early stopping conditioned on metric `val_acc` which is not available. Available metrics are: loss,accuracy,val_loss,val_accuracy\n",
            "\n",
            "Epoch 00038: saving model to random_model.h5\n",
            "Epoch 39/50\n",
            "469/469 [==============================] - 3s 7ms/step - loss: 0.0040 - accuracy: 0.9987 - val_loss: 0.0441 - val_accuracy: 0.9924\n",
            "WARNING:tensorflow:Early stopping conditioned on metric `val_acc` which is not available. Available metrics are: loss,accuracy,val_loss,val_accuracy\n",
            "\n",
            "Epoch 00039: saving model to random_model.h5\n",
            "Epoch 40/50\n",
            "469/469 [==============================] - 3s 7ms/step - loss: 0.0030 - accuracy: 0.9990 - val_loss: 0.0441 - val_accuracy: 0.9921\n",
            "WARNING:tensorflow:Early stopping conditioned on metric `val_acc` which is not available. Available metrics are: loss,accuracy,val_loss,val_accuracy\n",
            "\n",
            "Epoch 00040: saving model to random_model.h5\n",
            "Epoch 41/50\n",
            "469/469 [==============================] - 3s 7ms/step - loss: 0.0032 - accuracy: 0.9990 - val_loss: 0.0410 - val_accuracy: 0.9932\n",
            "WARNING:tensorflow:Early stopping conditioned on metric `val_acc` which is not available. Available metrics are: loss,accuracy,val_loss,val_accuracy\n",
            "\n",
            "Epoch 00041: saving model to random_model.h5\n",
            "Epoch 42/50\n",
            "469/469 [==============================] - 3s 7ms/step - loss: 0.0034 - accuracy: 0.9990 - val_loss: 0.0478 - val_accuracy: 0.9920\n",
            "WARNING:tensorflow:Early stopping conditioned on metric `val_acc` which is not available. Available metrics are: loss,accuracy,val_loss,val_accuracy\n",
            "\n",
            "Epoch 00042: saving model to random_model.h5\n",
            "Epoch 43/50\n",
            "469/469 [==============================] - 3s 7ms/step - loss: 0.0031 - accuracy: 0.9989 - val_loss: 0.0438 - val_accuracy: 0.9927\n",
            "WARNING:tensorflow:Early stopping conditioned on metric `val_acc` which is not available. Available metrics are: loss,accuracy,val_loss,val_accuracy\n",
            "\n",
            "Epoch 00043: saving model to random_model.h5\n",
            "Epoch 44/50\n",
            "469/469 [==============================] - 3s 7ms/step - loss: 0.0030 - accuracy: 0.9992 - val_loss: 0.0377 - val_accuracy: 0.9934\n",
            "WARNING:tensorflow:Early stopping conditioned on metric `val_acc` which is not available. Available metrics are: loss,accuracy,val_loss,val_accuracy\n",
            "\n",
            "Epoch 00044: saving model to random_model.h5\n",
            "Epoch 45/50\n",
            "469/469 [==============================] - 3s 7ms/step - loss: 0.0034 - accuracy: 0.9990 - val_loss: 0.0437 - val_accuracy: 0.9930\n",
            "WARNING:tensorflow:Early stopping conditioned on metric `val_acc` which is not available. Available metrics are: loss,accuracy,val_loss,val_accuracy\n",
            "\n",
            "Epoch 00045: saving model to random_model.h5\n",
            "Epoch 46/50\n",
            "469/469 [==============================] - 3s 7ms/step - loss: 0.0024 - accuracy: 0.9992 - val_loss: 0.0469 - val_accuracy: 0.9933\n",
            "WARNING:tensorflow:Early stopping conditioned on metric `val_acc` which is not available. Available metrics are: loss,accuracy,val_loss,val_accuracy\n",
            "\n",
            "Epoch 00046: saving model to random_model.h5\n",
            "Epoch 47/50\n",
            "469/469 [==============================] - 3s 7ms/step - loss: 0.0037 - accuracy: 0.9989 - val_loss: 0.0454 - val_accuracy: 0.9922\n",
            "WARNING:tensorflow:Early stopping conditioned on metric `val_acc` which is not available. Available metrics are: loss,accuracy,val_loss,val_accuracy\n",
            "\n",
            "Epoch 00047: saving model to random_model.h5\n",
            "Epoch 48/50\n",
            "469/469 [==============================] - 3s 7ms/step - loss: 0.0047 - accuracy: 0.9985 - val_loss: 0.0475 - val_accuracy: 0.9926\n",
            "WARNING:tensorflow:Early stopping conditioned on metric `val_acc` which is not available. Available metrics are: loss,accuracy,val_loss,val_accuracy\n",
            "\n",
            "Epoch 00048: saving model to random_model.h5\n",
            "Epoch 49/50\n",
            "469/469 [==============================] - 3s 7ms/step - loss: 0.0033 - accuracy: 0.9991 - val_loss: 0.0450 - val_accuracy: 0.9931\n",
            "WARNING:tensorflow:Early stopping conditioned on metric `val_acc` which is not available. Available metrics are: loss,accuracy,val_loss,val_accuracy\n",
            "\n",
            "Epoch 00049: saving model to random_model.h5\n",
            "Epoch 50/50\n",
            "469/469 [==============================] - 3s 7ms/step - loss: 0.0029 - accuracy: 0.9990 - val_loss: 0.0472 - val_accuracy: 0.9931\n",
            "WARNING:tensorflow:Early stopping conditioned on metric `val_acc` which is not available. Available metrics are: loss,accuracy,val_loss,val_accuracy\n",
            "\n",
            "Epoch 00050: saving model to random_model.h5\n"
          ],
          "name": "stdout"
        }
      ]
    },
    {
      "cell_type": "markdown",
      "metadata": {
        "id": "1JWhoTi8A5tZ"
      },
      "source": [
        "At te end of 50 epochs:\n",
        "Training accuracy : 0.9990\n",
        "Validation accuracy : 0.9931\n",
        "\n",
        "Our model of random initial weights also does pretty good on the same training data. \n",
        "Pre-trained model (model-2)just slightly surpasses the model 3 in terms of validation accuracy.\n"
      ]
    },
    {
      "cell_type": "markdown",
      "metadata": {
        "id": "FsUrQbKLCSHy"
      },
      "source": [
        "In terms of convergence time, the random weight model (model-3) converges much faster (almost near first 10 epochs) than pre-trainined model (model-2)\n"
      ]
    },
    {
      "cell_type": "markdown",
      "metadata": {
        "id": "oIciaHQo3rBe"
      },
      "source": [
        "**Task-3**"
      ]
    },
    {
      "cell_type": "markdown",
      "metadata": {
        "id": "Z3nBHzX09H_o"
      },
      "source": [
        "The dataset given is not well understood. Since the parent folder has subfolders labelled as 0 to 9 for the respective classes, but the images inside the subfolders have random images of any digit from 0-9 (6000 approx in every subfolder), it is impossible to train the dataset with wrong labels. "
      ]
    },
    {
      "cell_type": "code",
      "metadata": {
        "id": "iZ3DLvBLDpGh"
      },
      "source": [
        ""
      ],
      "execution_count": null,
      "outputs": []
    }
  ]
}